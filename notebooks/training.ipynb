{
 "cells": [
  {
   "cell_type": "code",
   "execution_count": null,
   "metadata": {},
   "outputs": [],
   "source": [
    "import pandas as pd\n",
    "from sklearn.model_selection import train_test_split\n",
    "from sklearn.preprocessing import StandardScaler\n",
    "from sklearn.ensemble import RandomForestClassifier\n",
    "from sklearn.metrics import accuracy_score, classification_report\n",
    "\n",
    "from pathlib import Path\n",
    "try:\n",
    "    ROOT = Path(__file__).resolve().parents[1]\n",
    "except NameError:\n",
    "    ROOT = Path.cwd()\n",
    "DATA_PATH = ROOT / 'data' / 'raw' / 'train.csv'\n",
    "\n",
    "df = pd.read_csv(DATA_PATH)\n",
    "\n",
    "def preprocess_data(df):\n",
    "    features = ['Pclass', 'Sex', 'Age', 'SibSp', 'Parch', 'Fare']\n",
    "    X = df[features].copy()\n",
    "    \n",
    "    X['Age'].fillna(X['Age'].median(), inplace=True)\n",
    "    X['Fare'].fillna(X['Fare'].median(), inplace=True)\n",
    "    \n",
    "    X['Sex'] = X['Sex'].map({'male': 0, 'female': 1})\n",
    "    \n",
    "    return X\n",
    "\n",
    "X = preprocess_data(df)\n",
    "y = df['Survived']\n",
    "\n",
    "X_train, X_test, y_train, y_test = train_test_split(X, y, test_size=0.2, random_state=42)\n",
    "# \u6807\u51c6\u5316\u7279\u5f81\n",
    "scaler = StandardScaler()\n",
    "X_train_scaled = scaler.fit_transform(X_train)\n",
    "X_test_scaled = scaler.transform(X_test)\n",
    "\n",
    "# \u8bad\u7ec3\u6a21\u578b\n",
    "model = RandomForestClassifier(n_estimators=100, random_state=42)\n",
    "model.fit(X_train_scaled, y_train)\n",
    "\n",
    "# \u9884\u6d4b\u548c\u8bc4\u4f30\n",
    "y_pred = model.predict(X_test_scaled)\n",
    "accuracy = accuracy_score(y_test, y_pred)\n",
    "print(f\"\u6a21\u578b\u51c6\u786e\u7387: {accuracy:.4f}\")\n",
    "print(\"\\n\u5206\u7c7b\u62a5\u544a:\")\n",
    "print(classification_report(y_test, y_pred))\n",
    "\n",
    "# \u7279\u5f81\u91cd\u8981\u6027\n",
    "feature_importance = pd.DataFrame({\n",
    "    'feature': X.columns,\n",
    "    'importance': model.feature_importances_\n",
    "})\n",
    "print(\"\\n\u7279\u5f81\u91cd\u8981\u6027:\")\n",
    "print(feature_importance.sort_values('importance', ascending=False))"
   ]
  },
  {
   "cell_type": "code",
   "execution_count": null,
   "metadata": {},
   "outputs": [],
   "source": []
  }
 ],
 "metadata": {
  "kernelspec": {
   "display_name": ".venv",
   "language": "python",
   "name": "python3"
  },
  "language_info": {
   "codemirror_mode": {
    "name": "ipython",
    "version": 3
   },
   "file_extension": ".py",
   "mimetype": "text/x-python",
   "name": "python",
   "nbconvert_exporter": "python",
   "pygments_lexer": "ipython3",
   "version": "3.11.6"
  }
 },
 "nbformat": 4,
 "nbformat_minor": 2
}
